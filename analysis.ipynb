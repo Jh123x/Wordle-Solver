{
 "cells": [
  {
   "cell_type": "code",
   "execution_count": 1,
   "metadata": {},
   "outputs": [],
   "source": [
    "def read_data(filename: str) -> list:\n",
    "    with open(filename, \"r\") as file:\n",
    "        data = file.readlines()\n",
    "    return list(map(lambda x: x.strip(), data))"
   ]
  },
  {
   "cell_type": "code",
   "execution_count": 2,
   "metadata": {},
   "outputs": [],
   "source": [
    "file_name = \"wordle-answers-alphabetical.txt\"\n",
    "data = read_data(file_name)"
   ]
  },
  {
   "cell_type": "code",
   "execution_count": 15,
   "metadata": {},
   "outputs": [
    {
     "name": "stdout",
     "output_type": "stream",
     "text": [
      "[('s', 366), ('c', 198), ('b', 173), ('t', 149), ('p', 142)]\n",
      "[('a', 304), ('o', 279), ('r', 267), ('e', 242), ('i', 202)]\n",
      "[('a', 307), ('i', 266), ('o', 244), ('e', 177), ('u', 165)]\n",
      "[('e', 318), ('n', 182), ('s', 171), ('a', 163), ('l', 162)]\n",
      "[('e', 424), ('y', 364), ('t', 253), ('r', 212), ('l', 156)]\n"
     ]
    }
   ],
   "source": [
    "# Do some statistical analysis.\n",
    "\n",
    "# Find the max freqency of letter at that position.\n",
    "letters = [{} for _ in range(5)]\n",
    "for word in data:\n",
    "    for index, letter in enumerate(word):\n",
    "        letters[index][letter] = letters[index].get(letter, 0) + 1\n",
    "\n",
    "# Get the most popular frequency of each letter\n",
    "letter_position_freq = []\n",
    "for d in letters:\n",
    "    temp = sorted(d.items(), key = lambda x: x[1], reverse= True)\n",
    "    letter_position_freq.append(temp)\n",
    "\n",
    "# Top 5 most populat letters at each positions\n",
    "for lst in letter_position_freq:\n",
    "    print(lst[:5])"
   ]
  },
  {
   "cell_type": "code",
   "execution_count": 16,
   "metadata": {},
   "outputs": [],
   "source": [
    "# Get frequency of each letter\n",
    "freq = {}\n",
    "for d in letters:\n",
    "    for k, v in d.items():\n",
    "        freq[k] = freq.get(k, 0) + v\n",
    "\n",
    "# Most common letter\n",
    "sorted_letters = sorted(freq.items(), key=lambda x: x[1], reverse=True)\n"
   ]
  },
  {
   "cell_type": "code",
   "execution_count": 17,
   "metadata": {},
   "outputs": [],
   "source": [
    "# Function to calculate the score of the word\n",
    "def score_calc(word: str) -> int:\n",
    "    score = 0\n",
    "    for index, letter in enumerate(word):\n",
    "        score += letters[index].get(letter, 0)\n",
    "    return score"
   ]
  },
  {
   "cell_type": "code",
   "execution_count": 18,
   "metadata": {},
   "outputs": [],
   "source": [
    "# Get maximum scoring word\n",
    "start_word = max(data, key=score_calc)"
   ]
  },
  {
   "cell_type": "code",
   "execution_count": 19,
   "metadata": {},
   "outputs": [
    {
     "data": {
      "text/plain": [
       "'slate'"
      ]
     },
     "execution_count": 19,
     "metadata": {},
     "output_type": "execute_result"
    }
   ],
   "source": [
    "start_word"
   ]
  },
  {
   "cell_type": "code",
   "execution_count": null,
   "metadata": {},
   "outputs": [],
   "source": []
  }
 ],
 "metadata": {
  "interpreter": {
   "hash": "031a3dd968c684ad78245834a9a2c9ef9479387b872ab106afedec4fdabf7567"
  },
  "kernelspec": {
   "display_name": "Python 3.9.7 64-bit",
   "language": "python",
   "name": "python3"
  },
  "language_info": {
   "codemirror_mode": {
    "name": "ipython",
    "version": 3
   },
   "file_extension": ".py",
   "mimetype": "text/x-python",
   "name": "python",
   "nbconvert_exporter": "python",
   "pygments_lexer": "ipython3",
   "version": "3.9.7"
  },
  "orig_nbformat": 4
 },
 "nbformat": 4,
 "nbformat_minor": 2
}
