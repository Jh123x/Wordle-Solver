{
 "cells": [
  {
   "cell_type": "code",
   "execution_count": 1,
   "metadata": {},
   "outputs": [],
   "source": [
    "def read_data(filename: str) -> list:\n",
    "    with open(filename, \"r\") as file:\n",
    "        data = file.readlines()\n",
    "    return list(map(lambda x: x.strip(), data))"
   ]
  },
  {
   "cell_type": "code",
   "execution_count": 2,
   "metadata": {},
   "outputs": [],
   "source": [
    "file_name = \"wordlist.txt\"\n",
    "data = read_data(file_name)"
   ]
  },
  {
   "cell_type": "code",
   "execution_count": 3,
   "metadata": {},
   "outputs": [
    {
     "name": "stdout",
     "output_type": "stream",
     "text": [
      "[('s', 1565), ('c', 922), ('b', 909), ('p', 859), ('t', 815)]\n",
      "[('a', 2263), ('o', 2096), ('e', 1628), ('i', 1383), ('u', 1187)]\n",
      "[('a', 1236), ('r', 1198), ('i', 1051), ('o', 993), ('n', 964)]\n",
      "[('e', 2327), ('a', 1074), ('t', 898), ('i', 880), ('n', 788)]\n",
      "[('s', 3958), ('e', 1522), ('y', 1301), ('d', 823), ('t', 727)]\n"
     ]
    }
   ],
   "source": [
    "# Do some statistical analysis.\n",
    "\n",
    "# Find the max freqency of letter at that position.\n",
    "letters = [{} for _ in range(5)]\n",
    "for word in data:\n",
    "    for index, letter in enumerate(word):\n",
    "        letters[index][letter] = letters[index].get(letter, 0) + 1\n",
    "\n",
    "# Get the most popular frequency of each letter\n",
    "letter_position_freq = []\n",
    "for d in letters:\n",
    "    temp = sorted(d.items(), key = lambda x: x[1], reverse= True)\n",
    "    letter_position_freq.append(temp)\n",
    "\n",
    "# Top 5 most populat letters at each positions\n",
    "for lst in letter_position_freq:\n",
    "    print(lst[:5])"
   ]
  },
  {
   "cell_type": "code",
   "execution_count": 8,
   "metadata": {},
   "outputs": [
    {
     "data": {
      "text/plain": [
       "[('s', 6665), ('e', 6662), ('a', 5990), ('o', 4438), ('r', 4158)]"
      ]
     },
     "execution_count": 8,
     "metadata": {},
     "output_type": "execute_result"
    }
   ],
   "source": [
    "# Get frequency of each letter\n",
    "freq = {}\n",
    "for d in letters:\n",
    "    for k, v in d.items():\n",
    "        freq[k] = freq.get(k, 0) + v\n",
    "\n",
    "# Most common letter\n",
    "sorted_letters = sorted(freq.items(), key=lambda x: x[1], reverse=True)\n",
    "sorted_letters[:5]\n"
   ]
  },
  {
   "cell_type": "code",
   "execution_count": 5,
   "metadata": {},
   "outputs": [],
   "source": [
    "# Function to calculate the score of the word\n",
    "def score_calc(word: str) -> int:\n",
    "    score = 0\n",
    "    for index, letter in enumerate(word):\n",
    "        score += letters[index].get(letter, 0)\n",
    "    return score"
   ]
  },
  {
   "cell_type": "code",
   "execution_count": 6,
   "metadata": {},
   "outputs": [],
   "source": [
    "# Get maximum scoring word\n",
    "start_word = max(data, key=score_calc)"
   ]
  },
  {
   "cell_type": "code",
   "execution_count": 7,
   "metadata": {},
   "outputs": [
    {
     "data": {
      "text/plain": [
       "'sores'"
      ]
     },
     "execution_count": 7,
     "metadata": {},
     "output_type": "execute_result"
    }
   ],
   "source": [
    "start_word"
   ]
  },
  {
   "cell_type": "code",
   "execution_count": null,
   "metadata": {},
   "outputs": [],
   "source": []
  }
 ],
 "metadata": {
  "interpreter": {
   "hash": "031a3dd968c684ad78245834a9a2c9ef9479387b872ab106afedec4fdabf7567"
  },
  "kernelspec": {
   "display_name": "Python 3.9.7 64-bit",
   "language": "python",
   "name": "python3"
  },
  "language_info": {
   "codemirror_mode": {
    "name": "ipython",
    "version": 3
   },
   "file_extension": ".py",
   "mimetype": "text/x-python",
   "name": "python",
   "nbconvert_exporter": "python",
   "pygments_lexer": "ipython3",
   "version": "3.9.7"
  },
  "orig_nbformat": 4
 },
 "nbformat": 4,
 "nbformat_minor": 2
}
